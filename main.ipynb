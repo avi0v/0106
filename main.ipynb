{
 "cells": [
  {
   "cell_type": "code",
   "execution_count": 10,
   "metadata": {},
   "outputs": [],
   "source": [
    "import pandas as pd \n",
    "import requests\n",
    "from bs4 import BeautifulSoup as bs"
   ]
  },
  {
   "cell_type": "code",
   "execution_count": 11,
   "metadata": {},
   "outputs": [],
   "source": [
    "link=0\n",
    "df=pd.DataFrame()\n",
    "t=[]\n",
    "for i in range(1,366):\n",
    "    link=\"https://www.airlinequality.com/airline-reviews/british-airways/page/1/\"\n",
    "    #request\n",
    "    page=requests.get(link)\n",
    "    #soup\n",
    "    soup=bs(page.content,\"html.parser\")\n",
    "    #text\n",
    "    text=soup.select('div[class=text_content ]')\n",
    "    for a in text:\n",
    "        t.append(a.get_text())\n",
    "    i+=1\n",
    "    b=str(i)\n",
    "    link=\"https://www.airlinequality.com/airline-reviews/british-airways/page/\"+b+\"/\"\n",
    "    \n",
    "\n"
   ]
  },
  {
   "cell_type": "code",
   "execution_count": 12,
   "metadata": {},
   "outputs": [],
   "source": [
    "df['Reviwes']=t\n"
   ]
  },
  {
   "cell_type": "code",
   "execution_count": 13,
   "metadata": {},
   "outputs": [],
   "source": [
    "df.to_csv('365page.csv')"
   ]
  }
 ],
 "metadata": {
  "kernelspec": {
   "display_name": "Python 3",
   "language": "python",
   "name": "python3"
  },
  "language_info": {
   "codemirror_mode": {
    "name": "ipython",
    "version": 3
   },
   "file_extension": ".py",
   "mimetype": "text/x-python",
   "name": "python",
   "nbconvert_exporter": "python",
   "pygments_lexer": "ipython3",
   "version": "3.11.2"
  },
  "orig_nbformat": 4
 },
 "nbformat": 4,
 "nbformat_minor": 2
}
